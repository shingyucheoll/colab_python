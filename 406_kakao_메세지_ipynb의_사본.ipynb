{
  "nbformat": 4,
  "nbformat_minor": 0,
  "metadata": {
    "colab": {
      "provenance": [],
      "include_colab_link": true
    },
    "kernelspec": {
      "name": "python3",
      "display_name": "Python 3"
    },
    "language_info": {
      "name": "python"
    }
  },
  "cells": [
    {
      "cell_type": "markdown",
      "metadata": {
        "id": "view-in-github",
        "colab_type": "text"
      },
      "source": [
        "<a href=\"https://colab.research.google.com/github/shingyucheoll/colab_python/blob/master/406_kakao_%EB%A9%94%EC%84%B8%EC%A7%80_ipynb%EC%9D%98_%EC%82%AC%EB%B3%B8.ipynb\" target=\"_parent\"><img src=\"https://colab.research.google.com/assets/colab-badge.svg\" alt=\"Open In Colab\"/></a>"
      ]
    },
    {
      "cell_type": "code",
      "execution_count": null,
      "metadata": {
        "colab": {
          "base_uri": "https://localhost:8080/"
        },
        "id": "vM1hZjp2o4zv",
        "outputId": "731887a9-5a6d-44c1-8214-303622e52fde"
      },
      "outputs": [
        {
          "output_type": "stream",
          "name": "stdout",
          "text": [
            "Drive already mounted at /content/drive; to attempt to forcibly remount, call drive.mount(\"/content/drive\", force_remount=True).\n",
            "/content/drive/MyDrive/ai_chat_python\n"
          ]
        }
      ],
      "source": [
        "from google.colab import drive\n",
        "drive.mount('/content/drive')\n",
        "\n",
        "%cd '/content/drive/MyDrive/ai_chat_python'"
      ]
    },
    {
      "cell_type": "code",
      "source": [
        "import requests\n",
        "\n",
        "url ='https://kauth.kakao.com/oauth/token'\n",
        "\n",
        "data = {\n",
        "    'grant_type' : 'authorization_code',\n",
        "    'client_id' : '5b25f60780d78d246c8eb1e96368270b',\n",
        "    'redirect_uri' : 'https://localhost.com',\n",
        "    'code' : 'yngsXz7na1kPDEIlhPxRhG3FGA7T6jk45e8rVaRw4Kmj0CBHv_YwpBJKzCoKPXPrAAABjEIer57UNEQ5evY1pg'\n",
        "}\n",
        "\n",
        "response = requests.post(url, data = data)\n",
        "\n",
        "# 요청 실패\n",
        "if response.status_code != 200:\n",
        "  print('error! because', response.json())\n",
        "else:   # 요청 성공\n",
        "  tokens = response.json()\n",
        "  print(tokens)\n"
      ],
      "metadata": {
        "colab": {
          "base_uri": "https://localhost:8080/"
        },
        "id": "W6TotOnMpBat",
        "outputId": "11b59931-83a1-4425-8f4b-8f5b96b1ce99"
      },
      "execution_count": null,
      "outputs": [
        {
          "output_type": "stream",
          "name": "stdout",
          "text": [
            "{'access_token': 'c84SVyba9ikOu-z-rXCUEx34-rDD7KZSjFMKKw0eAAABjEIfsyvE017PSiBv1Q', 'token_type': 'bearer', 'refresh_token': '2E53zW0SVZAScFPj0hjpgc4bpPX0ImL1WZEKKw0eAAABjEIfsyfE017PSiBv1Q', 'expires_in': 21599, 'scope': 'talk_message profile_nickname', 'refresh_token_expires_in': 5183999}\n"
          ]
        }
      ]
    },
    {
      "cell_type": "markdown",
      "source": [
        "토큰 관리"
      ],
      "metadata": {
        "id": "ZsvU0a4gpK8M"
      }
    },
    {
      "cell_type": "code",
      "source": [
        "import json\n",
        "import requests\n",
        "import datetime\n",
        "import os\n",
        "\n",
        "# 카카오 토큰을 저장할 파일명\n",
        "KAKAO_TOKEN_FILENAME = \"res/kakao_message/kakao_token.json\"\n",
        "\n",
        "# 저장하는 함수\n",
        "def save_tokens(filename, tokens):\n",
        "    with open(filename, \"w\") as fp:\n",
        "        json.dump(tokens, fp)\n",
        "\n",
        "# 읽어오는 함수\n",
        "def load_tokens(filename):\n",
        "    with open(filename) as fp:\n",
        "        tokens = json.load(fp)\n",
        "\n",
        "    return tokens\n",
        "\n",
        "# refresh_token으로 access_token 갱신하는 함수\n",
        "def update_tokens(app_key, filename) :\n",
        "    tokens = load_tokens(filename)\n",
        "\n",
        "    url = \"https://kauth.kakao.com/oauth/token\"\n",
        "    data = {\n",
        "        \"grant_type\" : \"refresh_token\",\n",
        "        \"client_id\" : app_key,\n",
        "        \"refresh_token\" : tokens['refresh_token']\n",
        "    }\n",
        "    response = requests.post(url, data=data)\n",
        "\n",
        "    # 요청에 실패했다면,\n",
        "    if response.status_code != 200:\n",
        "        print(\"error! because \", response.json())\n",
        "        tokens = None\n",
        "    else: # 성공했다면,\n",
        "        print(response.json())\n",
        "        # 기존 파일 백업\n",
        "        now = datetime.datetime.now().strftime(\"%Y%m%d_%H%M%S\")\n",
        "        backup_filename = filename+\".\"+ now\n",
        "        os.rename(filename, backup_filename)\n",
        "        # 갱신된 토큰 저장\n",
        "        tokens['access_token'] = response.json()['access_token']\n",
        "        save_tokens(filename, tokens)\n",
        "\n",
        "    return tokens\n",
        "\n",
        "# 토큰 저장\n",
        "save_tokens(KAKAO_TOKEN_FILENAME, tokens)\n",
        "\n",
        "# 토큰 업데이트 -> 토큰 저장 필수!\n",
        "#KAKAO_APP_KEY = \"<REST_API 앱키를 입력하세요>\"\n",
        "#tokens = update_tokens(KAKAO_APP_KEY, KAKAO_TOKEN_FILENAME)\n",
        "#save_tokens(KAKAO_TOKEN_FILENAME, tokens)"
      ],
      "metadata": {
        "id": "hhDnqoy_yA1e"
      },
      "execution_count": null,
      "outputs": []
    },
    {
      "cell_type": "markdown",
      "source": [
        "###구현하기"
      ],
      "metadata": {
        "id": "6dLovY8gyWet"
      }
    },
    {
      "cell_type": "markdown",
      "source": [
        "### 텍스트 메세지 템플릿을 사용하여 카카오톡 메세지 보내기"
      ],
      "metadata": {
        "id": "IJq3lvd40MKn"
      }
    },
    {
      "cell_type": "code",
      "source": [
        "import json\n",
        "import requests\n",
        "\n",
        "# 저장된 토큰 정보를 읽어옴\n",
        "tokens = load_tokens(KAKAO_TOKEN_FILENAME)\n",
        "\n",
        "# 텍스트 메세지 url\n",
        "url = 'https://kapi.kakao.com/v2/api/talk/memo/default/send'\n",
        "\n",
        "# request parameter 설정\n",
        "headers = {\n",
        "    'Authorization' :\t'Bearer ' + tokens['access_token']\n",
        "}\n",
        "\n",
        "data = {\n",
        "    'template_object' : json.dumps({\n",
        "        'object_type' : 'text',\n",
        "        'text' : 'Hello, World!',\n",
        "        'link' :{\n",
        "            'web_url' : 'https://www.naver.com',\n",
        "            'mobile_web_url': 'https://m.naver.com'\n",
        "        }\n",
        "    })\n",
        "}\n",
        "# 나에게 카카오톡 메세지 보내기 요청(text)\n",
        "response = requests.post(url, headers=headers, data=data)\n",
        "print(response.status_code)\n",
        "\n",
        "if response.status_code != 200:\n",
        "  print('error! because:', response.json())\n",
        "else:\n",
        "  print('메세지를 성공적으로 보냈습니다')"
      ],
      "metadata": {
        "colab": {
          "base_uri": "https://localhost:8080/"
        },
        "id": "UOyEEzs10swd",
        "outputId": "bdd569a2-47c4-4165-a1dd-1af5e72ae6a9"
      },
      "execution_count": null,
      "outputs": [
        {
          "output_type": "stream",
          "name": "stdout",
          "text": [
            "200\n",
            "메세지를 성공적으로 보냈습니다\n"
          ]
        }
      ]
    },
    {
      "cell_type": "code",
      "source": [
        "# 저장된 토큰 정보를 읽어옴\n",
        "tokens = load_tokens(KAKAO_TOKEN_FILENAME)\n",
        "\n",
        "# 리스트 메세지 url\n",
        "url = 'https://kapi.kakao.com/v2/api/talk/memo/default/send'\n",
        "\n",
        "# request parameter 설정\n",
        "headers = {\n",
        "    'Authorization' :\t'Bearer ' + tokens['access_token']\n",
        "}\n",
        "\n",
        "template = {\n",
        "    \"object_type\" : \"list\",\n",
        "    \"header_title\" : \"초밥 사진\",\n",
        "    \"header_link\" : {\n",
        "        \"web_url\" : \"https://www.naver.com\",\n",
        "        \"mobile_web_url\" : \"https://www.naver.com\"\n",
        "    },\n",
        "    \"contents\" : [\n",
        "        {\n",
        "            \"title\" : \"1. 광어초밥\",\n",
        "            \"description\" : \"광어는 맛있다\",\n",
        "            \"image_url\" : \"https://search1.kakaocdn.net/argon/0x200_85_hr/8x5qcdbcQwi\",\n",
        "            \"image_width\" : 50, \"image_height\" : 50,\n",
        "            \"link\" : {\n",
        "                \"web_url\" : \"https://www.naver.com\",\n",
        "                \"mobile_web_url\" : \"https://www.naver.com\"\n",
        "            }\n",
        "        },\n",
        "        {\n",
        "            \"title\" : \"2. 참치초밥\",\n",
        "            \"description\" : \"참치는 맛있다\",\n",
        "            \"image_url\" : \"https://search2.kakaocdn.net/argon/0x200_85_hr/IjIToH1S7J1\",\n",
        "            \"image_width\" : 50, \"image_height\" : 50,\n",
        "            \"link\" : {\n",
        "                \"web_url\" : \"https://www.naver.com\",\n",
        "                \"mobile_web_url\" : \"https://www.naver.com\"\n",
        "            }\n",
        "        }\n",
        "\n",
        "    ],\n",
        "    \"buttons\" : [\n",
        "        {\n",
        "            \"title\" : \"웹으로 이동\",\n",
        "            \"link\" : {\n",
        "                \"web_url\" : \"https://www.naver.com\",\n",
        "                \"mobile_web_url\" : \"https://www.naver.com\"\n",
        "            }\n",
        "        }\n",
        "    ]\n",
        "\n",
        "}\n",
        "\n",
        "data = {\n",
        "    'template_object' : json.dumps(template)\n",
        "}\n",
        "\n",
        "# 나에게 카카오톡 메세지 보내기 요청(list)\n",
        "response = requests.post(url, headers=headers, data=data)\n",
        "print(response.status_code)\n",
        "\n",
        "if response.status_code != 200:\n",
        "  print('error! because:', response.json())\n",
        "else:\n",
        "  print('메세지를 성공적으로 보냈습니다')"
      ],
      "metadata": {
        "colab": {
          "base_uri": "https://localhost:8080/"
        },
        "id": "qKCLpMR36M_w",
        "outputId": "dc7f2a5f-a1b4-4823-e532-60841eca24d5"
      },
      "execution_count": null,
      "outputs": [
        {
          "output_type": "stream",
          "name": "stdout",
          "text": [
            "200\n",
            "메세지를 성공적으로 보냈습니다\n"
          ]
        }
      ]
    },
    {
      "cell_type": "code",
      "source": [
        "%%writefile kakao_utils.py\n",
        "\n",
        "import json\n",
        "import os\n",
        "import datetime\n",
        "import requests\n",
        "\n",
        "# 저장하는 함수\n",
        "def save_tokens(filename, tokens):\n",
        "    with open(filename, \"w\") as fp:\n",
        "        json.dump(tokens, fp)\n",
        "\n",
        "# 읽어오는 함수\n",
        "def load_tokens(filename):\n",
        "    with open(filename) as fp:\n",
        "        tokens = json.load(fp)\n",
        "\n",
        "    return tokens\n",
        "\n",
        "# refresh_token으로 access_token 갱신하는 함수\n",
        "def update_tokens(app_key, filename) :\n",
        "    tokens = load_tokens(filename)\n",
        "\n",
        "    url = \"https://kauth.kakao.com/oauth/token\"\n",
        "    data = {\n",
        "        \"grant_type\" : \"refresh_token\",\n",
        "        \"client_id\"  : app_key,\n",
        "        \"refresh_token\" : tokens['refresh_token']\n",
        "    }\n",
        "    response = requests.post(url, data=data)\n",
        "\n",
        "    # 요청에 실패했다면,\n",
        "    if response.status_code != 200:\n",
        "        print(\"error! because \",  response.json())\n",
        "        tokens = None\n",
        "    else: # 성공했다면,\n",
        "        print(response.json())\n",
        "        # 기존 파일 백업\n",
        "        now = datetime.datetime.now().strftime(\"%Y%m%d_%H%M%S\")\n",
        "        backup_filename = filename+\".\"+ now\n",
        "        os.rename(filename, backup_filename)\n",
        "        # 갱신된 토큰 저장\n",
        "        tokens['access_token'] = response.json()['access_token']\n",
        "        save_tokens(filename, tokens)\n",
        "\n",
        "    return tokens\n",
        "\n",
        "# 메시지 전송 함수\n",
        "def send_message(filename, template):\n",
        "    tokens = load_tokens(filename)\n",
        "\n",
        "    headers = {\n",
        "        \"Authorization\": \"Bearer \" + tokens['access_token']\n",
        "    }\n",
        "\n",
        "    # JSON 형식 -> 문자열 변환\n",
        "    payload = {\n",
        "        \"template_object\" : json.dumps(template)\n",
        "    }\n",
        "\n",
        "    # 카카오톡 보내기\n",
        "    url = \"https://kapi.kakao.com/v2/api/talk/memo/default/send\"\n",
        "    res = requests.post(url, data=payload, headers=headers)\n",
        "\n",
        "    return res"
      ],
      "metadata": {
        "colab": {
          "base_uri": "https://localhost:8080/"
        },
        "id": "E0lmtnTr6Vr1",
        "outputId": "72d01adf-0bbc-4958-f395-4b8c1afc7f4d"
      },
      "execution_count": null,
      "outputs": [
        {
          "output_type": "stream",
          "name": "stdout",
          "text": [
            "Writing kakao_utils.py\n"
          ]
        }
      ]
    },
    {
      "cell_type": "code",
      "source": [
        "import json\n",
        "import requests\n",
        "import kakao_utils\n",
        "\n",
        "KAKAO_TOKEN_FILENAME = 'res/kakao_message/kakao_token.json'\n",
        "\n",
        "# KAKAO_APP_KEY = '<REST API 앱키를 입력>'\n",
        "KAKAO_APP_KEY = 'fccaa066a542449448f44f02cbb6000d'\n",
        "\n",
        "# 토큰 업데이트\n",
        "tokens = kakao_utils.update_tokens(KAKAO_APP_KEY, KAKAO_TOKEN_FILENAME)\n",
        "\n",
        "save_tokens(KAKAO_TOKEN_FILENAME, tokens)\n",
        "\n",
        "# 텍스트 템플릿 형식 만들기\n",
        "template = {\n",
        "        'object_type' : 'text',\n",
        "        'text' : 'Hello, World!',\n",
        "        'link' :{\n",
        "            'web_url' : 'https://www.naver.com',\n",
        "            'mobile_web_url': 'https://m.naver.com'\n",
        "        }\n",
        "}\n",
        "\n",
        "# 나에게 카카오톡 메세지 보내기 요청(text)\n",
        "response = kakao_utils.send_message(KAKAO_TOKEN_FILENAME, template)\n",
        "print(response.status_code)\n",
        "\n",
        "if response.status_code != 200:\n",
        "  print('error! because:', response.json())\n",
        "else:\n",
        "  print('메세지를 성공적으로 보냈습니다')"
      ],
      "metadata": {
        "colab": {
          "base_uri": "https://localhost:8080/"
        },
        "id": "A_ZZl822Bx3B",
        "outputId": "6b02da8a-7e8d-4f5e-8381-307155e0965a"
      },
      "execution_count": null,
      "outputs": [
        {
          "output_type": "stream",
          "name": "stdout",
          "text": [
            "{'access_token': 'OH-zvI3jfLdHgQISyMM68Z_sqdCo85kMcy0KPXVcAAABjD0RSGoq3eF1vjqPRg', 'token_type': 'bearer', 'expires_in': 21599}\n",
            "200\n",
            "메세지를 성공적으로 보냈습니다\n"
          ]
        }
      ]
    },
    {
      "cell_type": "code",
      "source": [],
      "metadata": {
        "id": "mLHjLQnnEU3D"
      },
      "execution_count": null,
      "outputs": []
    }
  ]
}